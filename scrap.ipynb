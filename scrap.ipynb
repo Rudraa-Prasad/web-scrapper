{
 "cells": [
  {
   "cell_type": "markdown",
   "metadata": {},
   "source": [
    "scrape HTML content from a URL and save it to a file"
   ]
  },
  {
   "cell_type": "code",
   "execution_count": 1,
   "metadata": {},
   "outputs": [
    {
     "name": "stdout",
     "output_type": "stream",
     "text": [
      "HTML content successfully saved to 'extract.text'.\n"
     ]
    }
   ],
   "source": [
    "import requests\n",
    "\n",
    "# Function to scrape HTML content from a URL and save it to a file\n",
    "def scrape_and_save_html(url):\n",
    "    try:\n",
    "        # Send a GET request to the URL\n",
    "        response = requests.get(url)\n",
    "\n",
    "        # Check if the request was successful (status code 200)\n",
    "        if response.status_code == 200:\n",
    "            html_content = response.text\n",
    "\n",
    "            # Write the HTML content to a file using UTF-8 encoding\n",
    "            with open(\"extract.text\", \"w\", encoding=\"utf-8\") as file:\n",
    "                file.write(html_content)\n",
    "            \n",
    "            print(f\"HTML content successfully saved to 'extract.text'.\")\n",
    "        else:\n",
    "            print(f\"Failed to retrieve content from the URL. Status code: {response.status_code}\")\n",
    "    except Exception as e:\n",
    "        print(f\"An error occurred: {e}\")\n",
    "\n",
    "# Take URL input from the user\n",
    "url = \"https://www.ndtv.com/india\"\n",
    "# Call the function to scrape and save the HTML content\n",
    "scrape_and_save_html(url)\n",
    "\n"
   ]
  }
 ],
 "metadata": {
  "kernelspec": {
   "display_name": ".venv",
   "language": "python",
   "name": "python3"
  },
  "language_info": {
   "codemirror_mode": {
    "name": "ipython",
    "version": 3
   },
   "file_extension": ".py",
   "mimetype": "text/x-python",
   "name": "python",
   "nbconvert_exporter": "python",
   "pygments_lexer": "ipython3",
   "version": "3.12.3"
  }
 },
 "nbformat": 4,
 "nbformat_minor": 2
}
